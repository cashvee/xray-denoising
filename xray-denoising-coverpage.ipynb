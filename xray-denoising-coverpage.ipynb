{
 "cells": [
  {
   "cell_type": "markdown",
   "metadata": {},
   "source": [
    "# x-ray denoising\n",
    "\n",
    "![cover](images/cover.png)\n",
    "\n",
    "This data comes from a [kaggle dataset](https://www.kaggle.com/paultimothymooney/chest-xray-pneumonia).  It contains chest x-ray images of individuals with and without pneumonia.   \n",
    "\n"
   ]
  },
  {
   "cell_type": "markdown",
   "metadata": {},
   "source": [
    "\n",
    "## Turn down that racket!  Its too noisy!\n",
    "Noise is information that is not part of a desired signal.  For x-ray images, noise in the image can be caused by measurement errors or efforts to reduce patient's exposure to radiation.  Denoising is often required for proper diagnostic analysis by medical professionals.  Competent denoising software exist on the market, but there is still research interest due to: \n",
    "+ limited datasets for niche domains (COVID-19 medical imaging)   \n",
    "+ extreme cases of noisy images that software cannot handle  \n",
    "+ limited applicable use cases for software (MRI specfic?  x-ray specific? CT scan specific?  body part specific?) \n",
    "\n",
    "\n"
   ]
  },
  {
   "cell_type": "markdown",
   "metadata": {},
   "source": [
    "## Task\n",
    "\n",
    "We will create a denoising autoencoder that is trained specifically on front-view chest x-ray images.  See the images below as an example.  The left column are the original x-ray images.  The middle column are noisy versions of the x-rays.  The right column are denoised x-ray images (denoised by a denoising autoencoder).  The image in the middle column would be inputs to your model and the right column are the outputs.  The left column represent the ideal output.  \n",
    "\n",
    "<img src=\"images/figure1.png\" width=\"600\"/>\n",
    "\n",
    "[image source](https://www.semanticscholar.org/paper/SkiDNet%3A-Skip-Image-Denoising-Network-for-X-Rays-Dutta-Chaturvedi/014fffd45558f63a37ada43445f43034d99d0e10) \n",
    "\n",
    "\n",
    "## Dataset \n",
    "\n",
    "You will be provided with an x-ray image dataset (clean images).  Identical version of the dataset will be provided in 128x128 (`data/dataset128`) and 64x64 (`data/dataset64`).  Use either one depending on your machine's compute power.  You only need to make a model that supports one of the image sizes.  \n",
    "\n",
    "**You are not given a noisy x-ray image dataset**--you will need to generate that on your own.  View the \"Judging\" section for examples of noisy images that your model should be able to handle.  Read the experimental setup section in the paper listed under \"Useful References\".\n",
    "\n"
   ]
  },
  {
   "cell_type": "markdown",
   "metadata": {},
   "source": [
    "### Test dataset \n",
    "\n",
    "To create the judge set, we will take some chest x-ray images of similar orientation as those in the dataset and apply some corruption.   The judge set won't include x-rays of any other body part.  The judge set won't include side-profile views of the chest.  \n",
    "\n",
    "To evaluate your submission, we will do a sum-of-squared error comparison between the denoised and original x-ray images over the judge set.  \n",
    "\n",
    "Examples of testing images are below.  They are tiered by difficulty.  \n",
    "\n",
    "<table><tr>\n",
    "<td> <img src=\"images/example-judge.png\"  width=95%/>  </td>\n",
    "</tr></table>\n"
   ]
  },
  {
   "cell_type": "markdown",
   "metadata": {},
   "source": [
    "## Useful references \n",
    "https://arxiv.org/pdf/1608.04667.pdf"
   ]
  }
 ],
 "metadata": {
  "kernelspec": {
   "display_name": "Python 3",
   "language": "python",
   "name": "python3"
  },
  "language_info": {
   "codemirror_mode": {
    "name": "ipython",
    "version": 3
   },
   "file_extension": ".py",
   "mimetype": "text/x-python",
   "name": "python",
   "nbconvert_exporter": "python",
   "pygments_lexer": "ipython3",
   "version": "3.7.9"
  },
  "toc": {
   "base_numbering": 1,
   "nav_menu": {},
   "number_sections": true,
   "sideBar": true,
   "skip_h1_title": false,
   "title_cell": "Table of Contents",
   "title_sidebar": "Contents",
   "toc_cell": false,
   "toc_position": {},
   "toc_section_display": true,
   "toc_window_display": false
  },
  "varInspector": {
   "cols": {
    "lenName": 16,
    "lenType": 16,
    "lenVar": 40
   },
   "kernels_config": {
    "python": {
     "delete_cmd_postfix": "",
     "delete_cmd_prefix": "del ",
     "library": "var_list.py",
     "varRefreshCmd": "print(var_dic_list())"
    },
    "r": {
     "delete_cmd_postfix": ") ",
     "delete_cmd_prefix": "rm(",
     "library": "var_list.r",
     "varRefreshCmd": "cat(var_dic_list()) "
    }
   },
   "types_to_exclude": [
    "module",
    "function",
    "builtin_function_or_method",
    "instance",
    "_Feature"
   ],
   "window_display": false
  }
 },
 "nbformat": 4,
 "nbformat_minor": 4
}
