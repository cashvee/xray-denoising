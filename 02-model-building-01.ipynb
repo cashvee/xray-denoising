{
 "cells": [
  {
   "cell_type": "code",
   "execution_count": 1,
   "metadata": {},
   "outputs": [],
   "source": [
    "import numpy as np\n",
    "import tensorflow as tf\n",
    "import matplotlib.pyplot as plt \n",
    "from PIL import Image \n",
    "import time \n",
    "\n",
    "%matplotlib inline "
   ]
  },
  {
   "cell_type": "code",
   "execution_count": 2,
   "metadata": {},
   "outputs": [],
   "source": [
    "import utils as utils"
   ]
  },
  {
   "cell_type": "markdown",
   "metadata": {},
   "source": [
    "# Prepare Dataset "
   ]
  },
  {
   "cell_type": "code",
   "execution_count": 3,
   "metadata": {},
   "outputs": [],
   "source": [
    "BATCH_SIZE = 32 \n",
    "AUTOTUNE = tf.data.experimental.AUTOTUNE # Adapt preprocessing and prefetching dynamically\n",
    "SHUFFLE_BUFFER_SIZE = 8    # Shuffle the training data by a chunck of this many observations"
   ]
  },
  {
   "cell_type": "code",
   "execution_count": 4,
   "metadata": {},
   "outputs": [],
   "source": [
    "filenames = utils.get_filenames_list('data/dataset128-easy-gaus/')\n",
    "train_ds = utils.create_dataset(filenames, SHUFFLE_BUFFER_SIZE, AUTOTUNE, BATCH_SIZE)"
   ]
  },
  {
   "cell_type": "code",
   "execution_count": null,
   "metadata": {},
   "outputs": [],
   "source": []
  },
  {
   "cell_type": "code",
   "execution_count": null,
   "metadata": {},
   "outputs": [],
   "source": []
  },
  {
   "cell_type": "markdown",
   "metadata": {},
   "source": [
    "# Model building - attempt 01 "
   ]
  },
  {
   "cell_type": "markdown",
   "metadata": {},
   "source": [
    "## Architecture "
   ]
  },
  {
   "cell_type": "code",
   "execution_count": 5,
   "metadata": {},
   "outputs": [],
   "source": [
    "LATENT_DIM = 20"
   ]
  },
  {
   "cell_type": "markdown",
   "metadata": {},
   "source": [
    "Model architecture from tf tutorials on MNIST dataset "
   ]
  },
  {
   "cell_type": "code",
   "execution_count": 6,
   "metadata": {},
   "outputs": [],
   "source": [
    "encoder = tf.keras.Sequential([\n",
    "        tf.keras.layers.InputLayer(input_shape=(128, 128, 1)),\n",
    "        tf.keras.layers.Conv2D(filters=32, kernel_size=3, strides=(2, 2), activation='relu'),\n",
    "        tf.keras.layers.Conv2D(filters=64, kernel_size=3, strides=(2, 2), activation='relu'),\n",
    "        tf.keras.layers.Flatten(),\n",
    "        # No activation\n",
    "        tf.keras.layers.Dense(LATENT_DIM + LATENT_DIM) \n",
    "        ])\n"
   ]
  },
  {
   "cell_type": "code",
   "execution_count": 7,
   "metadata": {},
   "outputs": [],
   "source": [
    "decoder = tf.keras.Sequential([\n",
    "        tf.keras.layers.InputLayer(input_shape=(LATENT_DIM,)),\n",
    "        tf.keras.layers.Dense(units=8*8*32, activation=tf.nn.relu),\n",
    "        tf.keras.layers.Reshape(target_shape=(8, 8, 32)),\n",
    "        tf.keras.layers.Conv2DTranspose(filters=64, kernel_size=3, strides=4, padding='same',\n",
    "            activation='relu'),\n",
    "        tf.keras.layers.Conv2DTranspose(filters=32, kernel_size=3, strides=4, padding='same',\n",
    "            activation='relu'),\n",
    "        # No activation\n",
    "        tf.keras.layers.Conv2DTranspose(filters=1, kernel_size=3, strides=1, padding='same'),\n",
    "        ])\n"
   ]
  },
  {
   "cell_type": "code",
   "execution_count": 8,
   "metadata": {},
   "outputs": [
    {
     "name": "stdout",
     "output_type": "stream",
     "text": [
      "Model: \"sequential_1\"\n",
      "_________________________________________________________________\n",
      "Layer (type)                 Output Shape              Param #   \n",
      "=================================================================\n",
      "dense_1 (Dense)              (None, 2048)              43008     \n",
      "_________________________________________________________________\n",
      "reshape (Reshape)            (None, 8, 8, 32)          0         \n",
      "_________________________________________________________________\n",
      "conv2d_transpose (Conv2DTran (None, 32, 32, 64)        18496     \n",
      "_________________________________________________________________\n",
      "conv2d_transpose_1 (Conv2DTr (None, 128, 128, 32)      18464     \n",
      "_________________________________________________________________\n",
      "conv2d_transpose_2 (Conv2DTr (None, 128, 128, 1)       289       \n",
      "=================================================================\n",
      "Total params: 80,257\n",
      "Trainable params: 80,257\n",
      "Non-trainable params: 0\n",
      "_________________________________________________________________\n"
     ]
    }
   ],
   "source": [
    "decoder.summary()"
   ]
  },
  {
   "cell_type": "markdown",
   "metadata": {},
   "source": [
    "Utilities for VAE "
   ]
  },
  {
   "cell_type": "code",
   "execution_count": 9,
   "metadata": {},
   "outputs": [],
   "source": [
    "@tf.function\n",
    "def sample(epsilon=None):\n",
    "    \"\"\" Forward pass through second half of network.  Used for generating data samples.    \n",
    "        Sample epsilon using tensorflow utilities \n",
    "    \"\"\"\n",
    "    if epsilon is None:\n",
    "        epsilon = tf.random.normal(shape=(100, LATENT_DIM))\n",
    "    return decode(epsilon, apply_sigmoid=True)\n",
    "\n",
    "\n",
    "\n",
    "def encode(X): \n",
    "    \"\"\" Forward pass of encoder network \n",
    "    \n",
    "        Input is data vector, X.  \n",
    "    \"\"\"\n",
    "    mean, logvar = tf.split(encoder(X), num_or_size_splits=2, axis=1)\n",
    "    return mean, logvar \n",
    "\n",
    "\n",
    "def reparameterize(mean, logvar):\n",
    "    \"\"\" Forward pass through bottleneck section of network.  Outputs z vector.  \n",
    "    \"\"\"\n",
    "    epsilon = tf.random.normal(shape=mean.shape)\n",
    "    return epsilon * tf.exp(logvar * .5) + mean\n",
    "\n",
    "\n",
    "\n",
    "\n",
    "def decode(z, apply_sigmoid=False): \n",
    "    \"\"\" Forward pass of decoder network.  \n",
    "    \n",
    "        Input is a sampled z vector \n",
    "    \"\"\"\n",
    "    logits = decoder(z) \n",
    "    \n",
    "    if apply_sigmoid: \n",
    "        probs = tf.sigmoid(logits)\n",
    "        return probs \n",
    "    return logits \n",
    "    "
   ]
  },
  {
   "cell_type": "markdown",
   "metadata": {},
   "source": [
    "# Optimizer and loss "
   ]
  },
  {
   "cell_type": "code",
   "execution_count": 10,
   "metadata": {},
   "outputs": [],
   "source": [
    "optimizer = tf.keras.optimizers.Adam(1e-4)\n",
    "\n",
    "def log_normal_pdf(sample, mean, logvar, raxis=1):\n",
    "    \"\"\" Utility for ELBO.\n",
    "    \"\"\"\n",
    "    log2pi = tf.math.log(2. * np.pi)\n",
    "    return tf.reduce_sum(\n",
    "      -.5 * ((sample - mean) ** 2. * tf.exp(-logvar) + logvar + log2pi),\n",
    "      axis=raxis)\n",
    "\n",
    "\n",
    "def compute_loss(x, y): \n",
    "    \"\"\" Calculates model loss \n",
    "    \"\"\"\n",
    "    # Forward pass through the network \n",
    "    mean, logvar = encode(x)\n",
    "    z = reparameterize(mean, logvar)\n",
    "    x_logit = decode(z)\n",
    "    \n",
    "    # Calculate reconstruction loss (binary cross entropy)\n",
    "    # Reconstruction loss will evaluate the similarity between inp and out. \n",
    "    cross_ent = tf.nn.sigmoid_cross_entropy_with_logits(logits=x_logit, labels=y)\n",
    "    \n",
    "    # Calculate regularization portion (ELBO) \n",
    "    logpx_z = -tf.reduce_sum(cross_ent, axis=[1, 2, 3])\n",
    "    logpz = log_normal_pdf(z, 0., 0.)\n",
    "    logqz_x = log_normal_pdf(z, mean, logvar)\n",
    "    return -tf.reduce_mean(logpx_z + logpz - logqz_x)\n",
    "    "
   ]
  },
  {
   "cell_type": "markdown",
   "metadata": {},
   "source": [
    "Training functions "
   ]
  },
  {
   "cell_type": "code",
   "execution_count": 11,
   "metadata": {},
   "outputs": [],
   "source": [
    "@tf.function\n",
    "def train_step(x, y, optimizer):\n",
    "    \"\"\"Executes one training step and returns the loss.  \n",
    "\n",
    "    This function computes the loss and gradients, and uses the latter to\n",
    "    update the model's parameters.\n",
    "    \"\"\"\n",
    "    \n",
    "    # Use GradientTape to record a computation graph \n",
    "    with tf.GradientTape() as tape:\n",
    "        loss = compute_loss(x, y)\n",
    "        \n",
    "    # The tape is used to compute gradients using the computation graph \n",
    "    trainable_vars = encoder.trainable_variables + decoder.trainable_variables\n",
    "    gradients = tape.gradient(loss, trainable_vars)\n",
    "    optimizer.apply_gradients(zip(gradients, trainable_vars))\n"
   ]
  },
  {
   "cell_type": "code",
   "execution_count": null,
   "metadata": {},
   "outputs": [],
   "source": []
  },
  {
   "cell_type": "markdown",
   "metadata": {},
   "source": [
    "## Trainin' "
   ]
  },
  {
   "cell_type": "code",
   "execution_count": 12,
   "metadata": {},
   "outputs": [],
   "source": [
    "# train_size = 60000\n",
    "batch_size = 32\n",
    "# test_size = 10000\n"
   ]
  },
  {
   "cell_type": "code",
   "execution_count": 13,
   "metadata": {},
   "outputs": [],
   "source": [
    "epochs = 10\n",
    "num_examples_to_generate = 16"
   ]
  },
  {
   "cell_type": "code",
   "execution_count": 14,
   "metadata": {},
   "outputs": [
    {
     "ename": "AttributeError",
     "evalue": "'function' object has no attribute 'clear_output'",
     "output_type": "error",
     "traceback": [
      "\u001b[1;31m---------------------------------------------------------------------------\u001b[0m",
      "\u001b[1;31mAttributeError\u001b[0m                            Traceback (most recent call last)",
      "\u001b[1;32m<ipython-input-14-7a7f7b102616>\u001b[0m in \u001b[0;36m<module>\u001b[1;34m\u001b[0m\n\u001b[0;32m     10\u001b[0m     \u001b[0mend_time\u001b[0m \u001b[1;33m=\u001b[0m \u001b[0mtime\u001b[0m\u001b[1;33m.\u001b[0m\u001b[0mtime\u001b[0m\u001b[1;33m(\u001b[0m\u001b[1;33m)\u001b[0m\u001b[1;33m\u001b[0m\u001b[1;33m\u001b[0m\u001b[0m\n\u001b[0;32m     11\u001b[0m \u001b[1;33m\u001b[0m\u001b[0m\n\u001b[1;32m---> 12\u001b[1;33m     \u001b[0mdisplay\u001b[0m\u001b[1;33m.\u001b[0m\u001b[0mclear_output\u001b[0m\u001b[1;33m(\u001b[0m\u001b[0mwait\u001b[0m\u001b[1;33m=\u001b[0m\u001b[1;32mFalse\u001b[0m\u001b[1;33m)\u001b[0m\u001b[1;33m\u001b[0m\u001b[1;33m\u001b[0m\u001b[0m\n\u001b[0m\u001b[0;32m     13\u001b[0m     print('Epoch: {}, time elapse for current epoch: {}'\n\u001b[0;32m     14\u001b[0m         .format(epoch, end_time - start_time))\n",
      "\u001b[1;31mAttributeError\u001b[0m: 'function' object has no attribute 'clear_output'"
     ]
    }
   ],
   "source": [
    "for epoch in range(1, epochs + 1):\n",
    "    \n",
    "    # tic\n",
    "    start_time = time.time()\n",
    "    \n",
    "    for train_x, train_y in train_ds: \n",
    "        train_step(train_x, train_y, optimizer)\n",
    "\n",
    "    # toc \n",
    "    end_time = time.time()\n",
    "\n",
    "#     display.clear_output(wait=False)\n",
    "#     print('Epoch: {}, time elapse for current epoch: {}'\n",
    "#         .format(epoch, end_time - start_time))\n"
   ]
  },
  {
   "cell_type": "code",
   "execution_count": null,
   "metadata": {},
   "outputs": [],
   "source": []
  },
  {
   "cell_type": "markdown",
   "metadata": {},
   "source": [
    "+ [x] training loop appears to work\n",
    "+ [ ] build the random number seed thing in "
   ]
  },
  {
   "cell_type": "code",
   "execution_count": null,
   "metadata": {},
   "outputs": [],
   "source": []
  }
 ],
 "metadata": {
  "kernelspec": {
   "display_name": "Python 3",
   "language": "python",
   "name": "python3"
  },
  "language_info": {
   "codemirror_mode": {
    "name": "ipython",
    "version": 3
   },
   "file_extension": ".py",
   "mimetype": "text/x-python",
   "name": "python",
   "nbconvert_exporter": "python",
   "pygments_lexer": "ipython3",
   "version": "3.7.6"
  }
 },
 "nbformat": 4,
 "nbformat_minor": 4
}
