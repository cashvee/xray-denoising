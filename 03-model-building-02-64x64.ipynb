{
 "cells": [
  {
   "cell_type": "code",
   "execution_count": 1,
   "metadata": {
    "ExecuteTime": {
     "end_time": "2020-11-21T17:23:03.817619Z",
     "start_time": "2020-11-21T17:23:01.554136Z"
    }
   },
   "outputs": [],
   "source": [
    "import numpy as np\n",
    "import tensorflow as tf\n",
    "import matplotlib.pyplot as plt \n",
    "from PIL import Image \n",
    "import time \n",
    "from IPython import display\n",
    "\n",
    "%matplotlib inline "
   ]
  },
  {
   "cell_type": "code",
   "execution_count": 2,
   "metadata": {
    "ExecuteTime": {
     "end_time": "2020-11-21T17:23:04.321788Z",
     "start_time": "2020-11-21T17:23:04.317798Z"
    }
   },
   "outputs": [],
   "source": [
    "import utils as utils"
   ]
  },
  {
   "cell_type": "code",
   "execution_count": 3,
   "metadata": {
    "ExecuteTime": {
     "end_time": "2020-11-21T17:23:04.633952Z",
     "start_time": "2020-11-21T17:23:04.612012Z"
    }
   },
   "outputs": [
    {
     "name": "stdout",
     "output_type": "stream",
     "text": [
      "WARNING:tensorflow:From <ipython-input-3-17bb7203622b>:1: is_gpu_available (from tensorflow.python.framework.test_util) is deprecated and will be removed in a future version.\n",
      "Instructions for updating:\n",
      "Use `tf.config.list_physical_devices('GPU')` instead.\n"
     ]
    },
    {
     "data": {
      "text/plain": [
       "False"
      ]
     },
     "execution_count": 3,
     "metadata": {},
     "output_type": "execute_result"
    }
   ],
   "source": [
    "tf.test.is_gpu_available()"
   ]
  },
  {
   "cell_type": "code",
   "execution_count": 4,
   "metadata": {
    "ExecuteTime": {
     "end_time": "2020-11-21T17:23:04.841414Z",
     "start_time": "2020-11-21T17:23:04.836427Z"
    }
   },
   "outputs": [
    {
     "data": {
      "text/plain": [
       "[]"
      ]
     },
     "execution_count": 4,
     "metadata": {},
     "output_type": "execute_result"
    }
   ],
   "source": [
    "tf.config.list_physical_devices('GPU') "
   ]
  },
  {
   "cell_type": "code",
   "execution_count": null,
   "metadata": {},
   "outputs": [],
   "source": []
  },
  {
   "cell_type": "code",
   "execution_count": null,
   "metadata": {},
   "outputs": [],
   "source": []
  },
  {
   "cell_type": "markdown",
   "metadata": {},
   "source": [
    "# Prepare Dataset "
   ]
  },
  {
   "cell_type": "code",
   "execution_count": 5,
   "metadata": {
    "ExecuteTime": {
     "end_time": "2020-11-21T17:23:07.186680Z",
     "start_time": "2020-11-21T17:23:07.182690Z"
    }
   },
   "outputs": [],
   "source": [
    "BATCH_SIZE = 32 \n",
    "AUTOTUNE = tf.data.experimental.AUTOTUNE # Adapt preprocessing and prefetching dynamically\n",
    "SHUFFLE_BUFFER_SIZE = 8    # Shuffle the training data by a chunck of this many observations"
   ]
  },
  {
   "cell_type": "code",
   "execution_count": 6,
   "metadata": {
    "ExecuteTime": {
     "end_time": "2020-11-21T17:23:07.932717Z",
     "start_time": "2020-11-21T17:23:07.344279Z"
    }
   },
   "outputs": [],
   "source": [
    "filenames = utils.get_filenames_list('data/dataset64-easy-gaus/')\n",
    "train_ds = utils.create_dataset(filenames, SHUFFLE_BUFFER_SIZE, AUTOTUNE, BATCH_SIZE)"
   ]
  },
  {
   "cell_type": "code",
   "execution_count": 7,
   "metadata": {
    "ExecuteTime": {
     "end_time": "2020-11-21T17:23:08.016495Z",
     "start_time": "2020-11-21T17:23:07.958649Z"
    }
   },
   "outputs": [],
   "source": [
    "from tensorflow.compat.v1 import ConfigProto\n",
    "from tensorflow.compat.v1 import InteractiveSession\n",
    "\n",
    "config = ConfigProto()\n",
    "config.gpu_options.allow_growth = True\n",
    "session = InteractiveSession(config=config)"
   ]
  },
  {
   "cell_type": "code",
   "execution_count": null,
   "metadata": {},
   "outputs": [],
   "source": []
  },
  {
   "cell_type": "markdown",
   "metadata": {},
   "source": [
    "# Model building - attempt 01 "
   ]
  },
  {
   "cell_type": "markdown",
   "metadata": {},
   "source": [
    "## Architecture "
   ]
  },
  {
   "cell_type": "code",
   "execution_count": 8,
   "metadata": {
    "ExecuteTime": {
     "end_time": "2020-11-21T17:23:08.201000Z",
     "start_time": "2020-11-21T17:23:08.197010Z"
    }
   },
   "outputs": [],
   "source": [
    "LATENT_DIM = 10"
   ]
  },
  {
   "cell_type": "markdown",
   "metadata": {},
   "source": [
    "Model architecture from tf tutorials on MNIST dataset "
   ]
  },
  {
   "cell_type": "code",
   "execution_count": 9,
   "metadata": {
    "ExecuteTime": {
     "end_time": "2020-11-21T17:23:08.660277Z",
     "start_time": "2020-11-21T17:23:08.543590Z"
    }
   },
   "outputs": [],
   "source": [
    "encoder = tf.keras.Sequential([\n",
    "        tf.keras.layers.InputLayer(input_shape=(64, 64, 1)),\n",
    "        tf.keras.layers.Conv2D(filters=32, kernel_size=3, strides=(2, 2), activation='relu'),\n",
    "        tf.keras.layers.Conv2D(filters=64, kernel_size=3, strides=(2, 2), activation='relu'),\n",
    "        tf.keras.layers.Flatten(),\n",
    "        # No activation\n",
    "        tf.keras.layers.Dense(LATENT_DIM + LATENT_DIM) \n",
    "        ])\n"
   ]
  },
  {
   "cell_type": "code",
   "execution_count": 10,
   "metadata": {
    "ExecuteTime": {
     "end_time": "2020-11-21T17:23:08.816859Z",
     "start_time": "2020-11-21T17:23:08.718124Z"
    }
   },
   "outputs": [],
   "source": [
    "decoder = tf.keras.Sequential([\n",
    "        tf.keras.layers.InputLayer(input_shape=(LATENT_DIM,)),\n",
    "        tf.keras.layers.Dense(units=8*8*32, activation=tf.nn.relu),\n",
    "        tf.keras.layers.Reshape(target_shape=(8, 8, 32)),\n",
    "        tf.keras.layers.Conv2DTranspose(filters=64, kernel_size=3, strides=4, padding='same',\n",
    "            activation='relu'),\n",
    "        tf.keras.layers.Conv2DTranspose(filters=32, kernel_size=3, strides=2, padding='same',\n",
    "            activation='relu'),\n",
    "        # No activation\n",
    "        tf.keras.layers.Conv2DTranspose(filters=1, kernel_size=3, strides=1, padding='same'),\n",
    "        ])\n"
   ]
  },
  {
   "cell_type": "code",
   "execution_count": 11,
   "metadata": {
    "ExecuteTime": {
     "end_time": "2020-11-21T17:23:08.898640Z",
     "start_time": "2020-11-21T17:23:08.894651Z"
    }
   },
   "outputs": [
    {
     "name": "stdout",
     "output_type": "stream",
     "text": [
      "Model: \"sequential_1\"\n",
      "_________________________________________________________________\n",
      "Layer (type)                 Output Shape              Param #   \n",
      "=================================================================\n",
      "dense_1 (Dense)              (None, 2048)              22528     \n",
      "_________________________________________________________________\n",
      "reshape (Reshape)            (None, 8, 8, 32)          0         \n",
      "_________________________________________________________________\n",
      "conv2d_transpose (Conv2DTran (None, 32, 32, 64)        18496     \n",
      "_________________________________________________________________\n",
      "conv2d_transpose_1 (Conv2DTr (None, 64, 64, 32)        18464     \n",
      "_________________________________________________________________\n",
      "conv2d_transpose_2 (Conv2DTr (None, 64, 64, 1)         289       \n",
      "=================================================================\n",
      "Total params: 59,777\n",
      "Trainable params: 59,777\n",
      "Non-trainable params: 0\n",
      "_________________________________________________________________\n"
     ]
    }
   ],
   "source": [
    "decoder.summary()"
   ]
  },
  {
   "cell_type": "markdown",
   "metadata": {},
   "source": [
    "Utilities for VAE "
   ]
  },
  {
   "cell_type": "code",
   "execution_count": 12,
   "metadata": {
    "ExecuteTime": {
     "end_time": "2020-11-21T17:23:09.244760Z",
     "start_time": "2020-11-21T17:23:09.238250Z"
    }
   },
   "outputs": [],
   "source": [
    "@tf.function\n",
    "def sample(epsilon=None):\n",
    "    \"\"\" Forward pass through second half of network.  Used for generating data samples.    \n",
    "        Sample epsilon using tensorflow utilities \n",
    "    \"\"\"\n",
    "    if epsilon is None:\n",
    "        epsilon = tf.random.normal(shape=(100, LATENT_DIM))\n",
    "    return decode(epsilon, apply_sigmoid=True)\n",
    "\n",
    "\n",
    "\n",
    "def encode(X): \n",
    "    \"\"\" Forward pass of encoder network \n",
    "    \n",
    "        Input is data vector, X.  \n",
    "    \"\"\"\n",
    "    mean, logvar = tf.split(encoder(X), num_or_size_splits=2, axis=1)\n",
    "    return mean, logvar \n",
    "\n",
    "\n",
    "def reparameterize(mean, logvar):\n",
    "    \"\"\" Forward pass through bottleneck section of network.  Outputs z vector.  \n",
    "    \"\"\"\n",
    "    epsilon = tf.random.normal(shape=mean.shape)\n",
    "    return epsilon * tf.exp(logvar * .5) + mean\n",
    "\n",
    "\n",
    "\n",
    "\n",
    "def decode(z, apply_sigmoid=False): \n",
    "    \"\"\" Forward pass of decoder network.  \n",
    "    \n",
    "        Input is a sampled z vector \n",
    "    \"\"\"\n",
    "    logits = decoder(z) \n",
    "    \n",
    "    if apply_sigmoid: \n",
    "        probs = tf.sigmoid(logits)\n",
    "        return probs \n",
    "    return logits \n",
    "    "
   ]
  },
  {
   "cell_type": "markdown",
   "metadata": {},
   "source": [
    "# Optimizer and loss "
   ]
  },
  {
   "cell_type": "code",
   "execution_count": 13,
   "metadata": {
    "ExecuteTime": {
     "end_time": "2020-11-21T17:23:09.593337Z",
     "start_time": "2020-11-21T17:23:09.586355Z"
    }
   },
   "outputs": [],
   "source": [
    "optimizer = tf.keras.optimizers.Adam(1e-4)\n",
    "\n",
    "def log_normal_pdf(sample, mean, logvar, raxis=1):\n",
    "    \"\"\" Utility for ELBO.\n",
    "    \"\"\"\n",
    "    log2pi = tf.math.log(2. * np.pi)\n",
    "    return tf.reduce_sum(\n",
    "      -.5 * ((sample - mean) ** 2. * tf.exp(-logvar) + logvar + log2pi),\n",
    "      axis=raxis)\n",
    "\n",
    "\n",
    "def compute_loss(x, y): \n",
    "    \"\"\" Calculates model loss \n",
    "    \"\"\"\n",
    "    # Forward pass through the network \n",
    "    mean, logvar = encode(x)\n",
    "    z = reparameterize(mean, logvar)\n",
    "    x_logit = decode(z)\n",
    "    \n",
    "    # Calculate reconstruction loss (binary cross entropy)\n",
    "    # Reconstruction loss will evaluate the similarity between inp and out. \n",
    "    cross_ent = tf.nn.sigmoid_cross_entropy_with_logits(logits=x_logit, labels=y)\n",
    "    \n",
    "    # Calculate regularization portion (ELBO) \n",
    "    logpx_z = -tf.reduce_sum(cross_ent, axis=[1, 2, 3])\n",
    "    logpz = log_normal_pdf(z, 0., 0.)\n",
    "    logqz_x = log_normal_pdf(z, mean, logvar)\n",
    "    return -tf.reduce_mean(logpx_z + logpz - logqz_x)\n",
    "    "
   ]
  },
  {
   "cell_type": "markdown",
   "metadata": {},
   "source": [
    "Training functions "
   ]
  },
  {
   "cell_type": "code",
   "execution_count": 14,
   "metadata": {
    "ExecuteTime": {
     "end_time": "2020-11-21T17:23:09.951377Z",
     "start_time": "2020-11-21T17:23:09.946390Z"
    }
   },
   "outputs": [],
   "source": [
    "@tf.function\n",
    "def train_step(x, y, optimizer):\n",
    "    \"\"\"Executes one training step and returns the loss.  \n",
    "\n",
    "    This function computes the loss and gradients, and uses the latter to\n",
    "    update the model's parameters.\n",
    "    \"\"\"\n",
    "    \n",
    "    # Use GradientTape to record a computation graph \n",
    "    with tf.GradientTape() as tape:\n",
    "        loss = compute_loss(x, y)\n",
    "        \n",
    "    # The tape is used to compute gradients using the computation graph \n",
    "    trainable_vars = encoder.trainable_variables + decoder.trainable_variables\n",
    "    gradients = tape.gradient(loss, trainable_vars)\n",
    "    optimizer.apply_gradients(zip(gradients, trainable_vars))\n",
    "    \n",
    "    return loss \n"
   ]
  },
  {
   "cell_type": "code",
   "execution_count": null,
   "metadata": {},
   "outputs": [],
   "source": []
  },
  {
   "cell_type": "markdown",
   "metadata": {},
   "source": [
    "# Utilities for image generation\n"
   ]
  },
  {
   "cell_type": "code",
   "execution_count": 15,
   "metadata": {
    "ExecuteTime": {
     "end_time": "2020-11-21T17:23:10.484458Z",
     "start_time": "2020-11-21T17:23:10.479471Z"
    }
   },
   "outputs": [],
   "source": [
    "num_examples_to_generate = 16\n",
    "batch_size=32 \n",
    "\n",
    "# keeping the random vector constant for generation (prediction) so\n",
    "# it will be easier to see the improvement.\n",
    "random_vector_for_generation = tf.random.normal(\n",
    "    shape=[num_examples_to_generate, LATENT_DIM])"
   ]
  },
  {
   "cell_type": "code",
   "execution_count": 16,
   "metadata": {
    "ExecuteTime": {
     "end_time": "2020-11-21T17:23:12.191410Z",
     "start_time": "2020-11-21T17:23:12.186423Z"
    }
   },
   "outputs": [],
   "source": [
    "def generate_and_save_images(epoch, test_sample):\n",
    "    \"\"\" Utility for saving image during training epoch   \n",
    "    \"\"\"\n",
    "    mean, logvar = encode(test_sample)\n",
    "    z = reparameterize(mean, logvar)\n",
    "    # Use the sample function to generate a new sample z vector \n",
    "    predictions = sample(z)\n",
    "    fig = plt.figure(figsize=(4, 4))\n",
    "\n",
    "    for i in range(predictions.shape[0]):\n",
    "        plt.subplot(4, 4, i + 1)\n",
    "        plt.imshow(predictions[i, :, :, 0], cmap='gray')\n",
    "        plt.axis('off')\n",
    "\n",
    "    plt.savefig('image_at_epoch_{:04d}.png'.format(epoch))\n",
    "    plt.show()\n"
   ]
  },
  {
   "cell_type": "code",
   "execution_count": 17,
   "metadata": {
    "ExecuteTime": {
     "end_time": "2020-11-21T17:23:13.567249Z",
     "start_time": "2020-11-21T17:23:12.401847Z"
    }
   },
   "outputs": [
    {
     "data": {
      "image/png": "[encoded data removed]",
      "text/plain": [
       "<Figure size 288x288 with 16 Axes>"
      ]
     },
     "metadata": {
      "needs_background": "light"
     },
     "output_type": "display_data"
    }
   ],
   "source": [
    "# Set aside a sample of the test set for generating output images\n",
    "assert batch_size >= num_examples_to_generate\n",
    "\n",
    "for test_batch in train_ds.take(1):\n",
    "    test_sample = test_batch[0][0:num_examples_to_generate, :, :, :]\n",
    "generate_and_save_images(0, test_sample)"
   ]
  },
  {
   "cell_type": "code",
   "execution_count": null,
   "metadata": {},
   "outputs": [],
   "source": []
  },
  {
   "cell_type": "markdown",
   "metadata": {},
   "source": [
    "## Trainin' "
   ]
  },
  {
   "cell_type": "code",
   "execution_count": 18,
   "metadata": {
    "ExecuteTime": {
     "end_time": "2020-11-21T17:23:18.192919Z",
     "start_time": "2020-11-21T17:23:18.189927Z"
    }
   },
   "outputs": [],
   "source": [
    "epochs = 100\n",
    "num_examples_to_generate = 16"
   ]
  },
  {
   "cell_type": "code",
   "execution_count": 19,
   "metadata": {
    "ExecuteTime": {
     "end_time": "2020-11-21T17:23:18.393889Z",
     "start_time": "2020-11-21T17:23:18.389899Z"
    }
   },
   "outputs": [],
   "source": [
    "losses = []"
   ]
  },
  {
   "cell_type": "code",
   "execution_count": null,
   "metadata": {
    "ExecuteTime": {
     "start_time": "2020-11-21T17:23:18.579Z"
    }
   },
   "outputs": [
    {
     "name": "stdout",
     "output_type": "stream",
     "text": [
      "Epoch: 32, time elapse for current epoch: 4.908487558364868\n"
     ]
    },
    {
     "data": {
      "image/png": "[encoded data removed]",
      "text/plain": [
       "<Figure size 288x288 with 16 Axes>"
      ]
     },
     "metadata": {
      "needs_background": "light"
     },
     "output_type": "display_data"
    }
   ],
   "source": [
    "for epoch in range(1, epochs + 1):\n",
    "    \n",
    "    # tic\n",
    "    start_time = time.time()\n",
    "    \n",
    "    for train_x, train_y in train_ds: \n",
    "        l = train_step(train_x, train_y, optimizer)\n",
    "        losses.append(l)\n",
    "\n",
    "    print(\"Epoch {}.  Loss: {}\".format(epoch, l))\n",
    "    \n",
    "    # toc \n",
    "    end_time = time.time()\n",
    "\n",
    "    display.clear_output(wait=False)\n",
    "    print('Epoch: {}, time elapse for current epoch: {}'\n",
    "        .format(epoch, end_time - start_time))\n",
    "    generate_and_save_images(epoch, test_sample)"
   ]
  },
  {
   "cell_type": "code",
   "execution_count": null,
   "metadata": {
    "ExecuteTime": {
     "start_time": "2020-11-21T17:23:18.768Z"
    }
   },
   "outputs": [],
   "source": [
    "plt.plot(np.arange(len(losses)), losses)"
   ]
  },
  {
   "cell_type": "code",
   "execution_count": null,
   "metadata": {},
   "outputs": [],
   "source": []
  },
  {
   "cell_type": "markdown",
   "metadata": {},
   "source": [
    "+ [x] training loop appears to work\n",
    "+ [ ] build the random number seed thing in "
   ]
  },
  {
   "cell_type": "markdown",
   "metadata": {},
   "source": [
    "## Save generated as GIF "
   ]
  },
  {
   "cell_type": "code",
   "execution_count": null,
   "metadata": {
    "ExecuteTime": {
     "start_time": "2020-11-21T17:23:19.566Z"
    }
   },
   "outputs": [],
   "source": [
    "import imageio, glob\n",
    "\n",
    "anim_file = 'cvae.gif'\n",
    "\n",
    "with imageio.get_writer(anim_file, mode='I') as writer:\n",
    "    filenames = glob.glob('image*.png')\n",
    "    filenames = sorted(filenames)\n",
    "    for filename in filenames:\n",
    "        image = imageio.imread(filename)\n",
    "        writer.append_data(image)\n",
    "    image = imageio.imread(filename)\n",
    "    writer.append_data(image)"
   ]
  },
  {
   "cell_type": "code",
   "execution_count": null,
   "metadata": {},
   "outputs": [],
   "source": []
  },
  {
   "cell_type": "markdown",
   "metadata": {},
   "source": [
    "# Testing \n",
    "Take and image, pass through network."
   ]
  },
  {
   "cell_type": "code",
   "execution_count": null,
   "metadata": {
    "ExecuteTime": {
     "start_time": "2020-11-21T17:23:20.109Z"
    }
   },
   "outputs": [],
   "source": [
    "for i in train_ds.take(1): \n",
    "    ims = i[0]\n",
    "    \n",
    "    \n",
    "fig, ax = plt.subplots(4, 4, figsize=(6, 6))\n",
    "ax = ax.reshape(-1) \n",
    "\n",
    "for i, ax in enumerate(ax): \n",
    "    ax.imshow(np.squeeze(ims[i]))\n",
    "    ax.axis(False)"
   ]
  },
  {
   "cell_type": "markdown",
   "metadata": {},
   "source": [
    "## Pass through network "
   ]
  },
  {
   "cell_type": "code",
   "execution_count": null,
   "metadata": {
    "ExecuteTime": {
     "start_time": "2020-11-21T17:23:20.514Z"
    }
   },
   "outputs": [],
   "source": [
    "mean, logvar = encode(ims)\n",
    "z = reparameterize(mean, logvar)\n",
    "x_logit = decode(z)"
   ]
  },
  {
   "cell_type": "code",
   "execution_count": null,
   "metadata": {
    "ExecuteTime": {
     "start_time": "2020-11-21T17:23:20.728Z"
    }
   },
   "outputs": [],
   "source": [
    "fig, ax = plt.subplots(4, 4, figsize=(6, 6))\n",
    "ax = ax.reshape(-1)\n",
    "\n",
    "for i, ax in enumerate(ax):\n",
    "    ax.imshow(np.squeeze(x_logit[i]))\n",
    "    ax.axis(False)"
   ]
  },
  {
   "cell_type": "markdown",
   "metadata": {},
   "source": [
    "## SAve model \n"
   ]
  },
  {
   "cell_type": "code",
   "execution_count": null,
   "metadata": {
    "ExecuteTime": {
     "start_time": "2020-11-21T17:23:21.100Z"
    },
    "jupyter": {
     "outputs_hidden": true
    }
   },
   "outputs": [],
   "source": [
    "from datetime import datetime\n",
    "import os\n",
    "\n",
    "now = datetime.now().date()\n",
    "os.makedirs('saved_model/' + str(now) + '/encoder/')\n",
    "os.makedirs('saved_model/' + str(now) + '/decoder/')\n"
   ]
  },
  {
   "cell_type": "code",
   "execution_count": null,
   "metadata": {
    "ExecuteTime": {
     "start_time": "2020-11-21T17:23:21.304Z"
    }
   },
   "outputs": [],
   "source": [
    "encoder.save('saved_model/' + str(now) + '/encoder')\n",
    "decoder.save('saved_model/' + str(now) + '/decoder')"
   ]
  },
  {
   "cell_type": "code",
   "execution_count": null,
   "metadata": {
    "ExecuteTime": {
     "start_time": "2020-11-21T17:23:21.508Z"
    }
   },
   "outputs": [],
   "source": [
    "losses_lst = [l.numpy() for l in losses]"
   ]
  },
  {
   "cell_type": "code",
   "execution_count": null,
   "metadata": {
    "ExecuteTime": {
     "start_time": "2020-11-21T17:23:21.688Z"
    }
   },
   "outputs": [],
   "source": [
    "with open('saved_model/' + str(now) + '/losses.txt', 'w') as f:\n",
    "    for item in losses_lst:\n",
    "        f.write(\"%s\\n\" % item)"
   ]
  },
  {
   "cell_type": "code",
   "execution_count": null,
   "metadata": {},
   "outputs": [],
   "source": []
  },
  {
   "cell_type": "markdown",
   "metadata": {},
   "source": [
    "# TODO \n",
    "+ Research autoencoder architecture and loss functions that could help with overblurring "
   ]
  },
  {
   "cell_type": "code",
   "execution_count": null,
   "metadata": {},
   "outputs": [],
   "source": []
  },
  {
   "cell_type": "code",
   "execution_count": null,
   "metadata": {},
   "outputs": [],
   "source": []
  },
  {
   "cell_type": "code",
   "execution_count": null,
   "metadata": {},
   "outputs": [],
   "source": []
  }
 ],
 "metadata": {
  "kernelspec": {
   "display_name": "Python 3",
   "language": "python",
   "name": "python3"
  },
  "language_info": {
   "codemirror_mode": {
    "name": "ipython",
    "version": 3
   },
   "file_extension": ".py",
   "mimetype": "text/x-python",
   "name": "python",
   "nbconvert_exporter": "python",
   "pygments_lexer": "ipython3",
   "version": "3.7.8"
  },
  "toc": {
   "base_numbering": 1,
   "nav_menu": {},
   "number_sections": true,
   "sideBar": true,
   "skip_h1_title": false,
   "title_cell": "Table of Contents",
   "title_sidebar": "Contents",
   "toc_cell": false,
   "toc_position": {},
   "toc_section_display": true,
   "toc_window_display": false
  },
  "varInspector": {
   "cols": {
    "lenName": 16,
    "lenType": 16,
    "lenVar": 40
   },
   "kernels_config": {
    "python": {
     "delete_cmd_postfix": "",
     "delete_cmd_prefix": "del ",
     "library": "var_list.py",
     "varRefreshCmd": "print(var_dic_list())"
    },
    "r": {
     "delete_cmd_postfix": ") ",
     "delete_cmd_prefix": "rm(",
     "library": "var_list.r",
     "varRefreshCmd": "cat(var_dic_list()) "
    }
   },
   "types_to_exclude": [
    "module",
    "function",
    "builtin_function_or_method",
    "instance",
    "_Feature"
   ],
   "window_display": false
  }
 },
 "nbformat": 4,
 "nbformat_minor": 4
}
